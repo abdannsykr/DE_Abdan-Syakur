{
 "cells": [
  {
   "cell_type": "code",
   "execution_count": 2,
   "metadata": {},
   "outputs": [],
   "source": [
    "import pandas as pd\n",
    "from sklearn.preprocessing import MinMaxScaler\n"
   ]
  },
  {
   "cell_type": "code",
   "execution_count": 3,
   "metadata": {},
   "outputs": [
    {
     "name": "stdout",
     "output_type": "stream",
     "text": [
      "Defaulting to user installation because normal site-packages is not writeable\n",
      "Requirement already satisfied: scikit-learn in c:\\users\\abdan\\appdata\\roaming\\python\\python312\\site-packages (1.4.2)\n",
      "Requirement already satisfied: numpy>=1.19.5 in c:\\users\\abdan\\appdata\\roaming\\python\\python312\\site-packages (from scikit-learn) (1.26.4)\n",
      "Requirement already satisfied: scipy>=1.6.0 in c:\\users\\abdan\\appdata\\roaming\\python\\python312\\site-packages (from scikit-learn) (1.13.0)\n",
      "Requirement already satisfied: joblib>=1.2.0 in c:\\users\\abdan\\appdata\\roaming\\python\\python312\\site-packages (from scikit-learn) (1.4.0)\n",
      "Requirement already satisfied: threadpoolctl>=2.0.0 in c:\\users\\abdan\\appdata\\roaming\\python\\python312\\site-packages (from scikit-learn) (3.4.0)\n",
      "Note: you may need to restart the kernel to use updated packages.\n"
     ]
    }
   ],
   "source": [
    "%pip install scikit-learn"
   ]
  },
  {
   "cell_type": "code",
   "execution_count": 4,
   "metadata": {},
   "outputs": [
    {
     "name": "stdout",
     "output_type": "stream",
     "text": [
      "       category    price currency     price_1m2  \\\n",
      "0  Köhnə tikili  137 000      AZN  2 630 AZN/m²   \n",
      "1   Yeni tikili  183 000      AZN  1 790 AZN/m²   \n",
      "2  Köhnə tikili  145 000      AZN  2 230 AZN/m²   \n",
      "3  Köhnə tikili  190 000      AZN  2 000 AZN/m²   \n",
      "4   Yeni tikili  294 000      AZN  1 550 AZN/m²   \n",
      "\n",
      "                                               title  \\\n",
      "0  Satılır 3 otaqlı köhnə tikili 52 m², 8-ci kilo...   \n",
      "1  Satılır 2 otaqlı yeni tikili 102 m², Neftçilər m.   \n",
      "2  Satılır 2 otaqlı köhnə tikili 65 m², Nərimanov r.   \n",
      "3    Satılır 3 otaqlı köhnə tikili 95 m², Gənclik m.   \n",
      "4     Satılır 3 otaqlı yeni tikili 190 m², Nəsimi r.   \n",
      "\n",
      "                    address   floor    area title_deed  repair mortgage  \\\n",
      "0  Elşən Süleymanov küç 137   7 / 9   52 m²        var     var      NaN   \n",
      "1      Mehdi Abbasov küçəsi  2 / 17  102 m²     yoxdur     var      NaN   \n",
      "2         Atatürk Prospekti   6 / 9   65 m²        var     var      var   \n",
      "3               Atatürk pr.   4 / 9   95 m²        var     var      var   \n",
      "4      Möhsün Sənani küçəsi  6 / 16  190 m²        var  yoxdur      NaN   \n",
      "\n",
      "                             url  room_number  \n",
      "0  https://bina.az/items/3858477          3.0  \n",
      "1  https://bina.az/items/3858493          2.0  \n",
      "2  https://bina.az/items/3858489          2.0  \n",
      "3  https://bina.az/items/3858491          3.0  \n",
      "4  https://bina.az/items/3858488          3.0  \n"
     ]
    }
   ],
   "source": [
    "data_house = pd.read_csv('house_listings.csv')\n",
    "\n",
    "print(data_house.head())"
   ]
  },
  {
   "cell_type": "code",
   "execution_count": 5,
   "metadata": {},
   "outputs": [
    {
     "name": "stdout",
     "output_type": "stream",
     "text": [
      "       category     price currency  price_1m2  \\\n",
      "0  Köhnə tikili  0.021298      AZN   0.116922   \n",
      "1   Yeni tikili  0.030369      AZN   0.076321   \n",
      "2  Köhnə tikili  0.022875      AZN   0.097588   \n",
      "3  Köhnə tikili  0.031749      AZN   0.086471   \n",
      "4   Yeni tikili  0.052258      AZN   0.064720   \n",
      "\n",
      "                                               title  \\\n",
      "0  Satılır 3 otaqlı köhnə tikili 52 m², 8-ci kilo...   \n",
      "1  Satılır 2 otaqlı yeni tikili 102 m², Neftçilər m.   \n",
      "2  Satılır 2 otaqlı köhnə tikili 65 m², Nərimanov r.   \n",
      "3    Satılır 3 otaqlı köhnə tikili 95 m², Gənclik m.   \n",
      "4     Satılır 3 otaqlı yeni tikili 190 m², Nəsimi r.   \n",
      "\n",
      "                    address   floor    area title_deed  repair mortgage  \\\n",
      "0  Elşən Süleymanov küç 137   7 / 9   52 m²        var     var      NaN   \n",
      "1      Mehdi Abbasov küçəsi  2 / 17  102 m²     yoxdur     var      NaN   \n",
      "2         Atatürk Prospekti   6 / 9   65 m²        var     var      var   \n",
      "3               Atatürk pr.   4 / 9   95 m²        var     var      var   \n",
      "4      Möhsün Sənani küçəsi  6 / 16  190 m²        var  yoxdur      NaN   \n",
      "\n",
      "                             url  room_number  \n",
      "0  https://bina.az/items/3858477          3.0  \n",
      "1  https://bina.az/items/3858493          2.0  \n",
      "2  https://bina.az/items/3858489          2.0  \n",
      "3  https://bina.az/items/3858491          3.0  \n",
      "4  https://bina.az/items/3858488          3.0  \n"
     ]
    }
   ],
   "source": [
    "data_house['price'] = data_house['price'].str.replace(' ', '').astype(float)\n",
    "\n",
    "data_house['price_1m2'] = data_house['price_1m2'].str.replace(' AZN/m²', '').str.replace(' ', '').astype(float)\n",
    "\n",
    "scaler = MinMaxScaler()\n",
    "data_house[['price', 'price_1m2']] = scaler.fit_transform(data_house[['price', 'price_1m2']])\n",
    "\n",
    "print(data_house.head())"
   ]
  },
  {
   "cell_type": "code",
   "execution_count": 6,
   "metadata": {},
   "outputs": [
    {
     "name": "stdout",
     "output_type": "stream",
     "text": [
      "           category     price currency  price_1m2  \\\n",
      "35498  Köhnə tikili  0.020903      AZN   0.090338   \n",
      "35499   Yeni tikili  0.042595      AZN   0.121272   \n",
      "35500   Yeni tikili  0.055216      AZN   0.101455   \n",
      "35501   Yeni tikili  0.051864      AZN   0.093721   \n",
      "35502  Köhnə tikili  0.019917      AZN   0.094688   \n",
      "\n",
      "                                                   title              address  \\\n",
      "35498  Satılır 2 otaqlı köhnə tikili 65 m², 9-cu mikr...     Mir Cəlal küçəsi   \n",
      "35499      Satılır 2 otaqlı yeni tikili 90 m², 28 May m.   Dilarə Əliyeva küç   \n",
      "35500     Satılır 3 otaqlı yeni tikili 134 m², Nizami m.    Ağadadaş Qurbanov   \n",
      "35501  Satılır 3 otaqlı yeni tikili 136 m², Şah İsmay...    Xocalı prospekti.   \n",
      "35502  Satılır 3 otaqlı köhnə tikili 60 m², Qara Qara...  Q.Qarayev prospekti   \n",
      "\n",
      "         floor    area title_deed repair mortgage  \\\n",
      "35498    3 / 9   65 m²        var    var      var   \n",
      "35499   7 / 13   90 m²        var    NaN      NaN   \n",
      "35500  13 / 18  134 m²        var    var      var   \n",
      "35501   6 / 15  136 m²        var    var      NaN   \n",
      "35502    8 / 9   60 m²        var    var      NaN   \n",
      "\n",
      "                                 url  room_number  \n",
      "35498  https://bina.az/items/3858504          2.0  \n",
      "35499  https://bina.az/items/2906548          2.0  \n",
      "35500  https://bina.az/items/3827478          3.0  \n",
      "35501  https://bina.az/items/3721798          3.0  \n",
      "35502  https://bina.az/items/3858496          3.0  \n"
     ]
    }
   ],
   "source": [
    "print(data_house.tail())"
   ]
  },
  {
   "cell_type": "code",
   "execution_count": 7,
   "metadata": {},
   "outputs": [
    {
     "name": "stdout",
     "output_type": "stream",
     "text": [
      "      price currency  price_1m2  \\\n",
      "0  0.021298      AZN   0.116922   \n",
      "1  0.030369      AZN   0.076321   \n",
      "2  0.022875      AZN   0.097588   \n",
      "3  0.031749      AZN   0.086471   \n",
      "4  0.052258      AZN   0.064720   \n",
      "5  0.011438      AZN   0.083088   \n",
      "6  0.102741      AZN   0.112089   \n",
      "7  0.018931      AZN   0.094205   \n",
      "8  0.023861      AZN   0.121756   \n",
      "9  0.006508      AZN   0.062787   \n",
      "\n",
      "                                               title  \\\n",
      "0  Satılır 3 otaqlı köhnə tikili 52 m², 8-ci kilo...   \n",
      "1  Satılır 2 otaqlı yeni tikili 102 m², Neftçilər m.   \n",
      "2  Satılır 2 otaqlı köhnə tikili 65 m², Nərimanov r.   \n",
      "3    Satılır 3 otaqlı köhnə tikili 95 m², Gənclik m.   \n",
      "4     Satılır 3 otaqlı yeni tikili 190 m², Nəsimi r.   \n",
      "5     Satılır 1 otaqlı köhnə tikili 45 m², Nəsimi m.   \n",
      "6  Satılır 5 otaqlı yeni tikili 217 m², Nəriman N...   \n",
      "7  Satılır 2 otaqlı yeni tikili 58 m², Yeni Yasam...   \n",
      "8     Satılır 2 otaqlı köhnə tikili 55 m², Nizami m.   \n",
      "9     Satılır 2 otaqlı yeni tikili 41 m², Masazır q.   \n",
      "\n",
      "                    address    floor    area                            url  \\\n",
      "0  Elşən Süleymanov küç 137    7 / 9   52 m²  https://bina.az/items/3858477   \n",
      "1      Mehdi Abbasov küçəsi   2 / 17  102 m²  https://bina.az/items/3858493   \n",
      "2         Atatürk Prospekti    6 / 9   65 m²  https://bina.az/items/3858489   \n",
      "3               Atatürk pr.    4 / 9   95 m²  https://bina.az/items/3858491   \n",
      "4      Möhsün Sənani küçəsi   6 / 16  190 m²  https://bina.az/items/3858488   \n",
      "5    Svetlana Məmmədova 210    5 / 5   45 m²  https://bina.az/items/3845898   \n",
      "6            Qarabağ küç 55  15 / 19  217 m²  https://bina.az/items/3719344   \n",
      "7  Məhəmməd Xiyabani küçəsi   7 / 16   58 m²  https://bina.az/items/3858490   \n",
      "8     Nəriman Nərimanov pr.    2 / 6   55 m²  https://bina.az/items/3788954   \n",
      "9      İstiqlaliyyət küçəsi   3 / 10   41 m²  https://bina.az/items/3858482   \n",
      "\n",
      "   room_number  category_Köhnə tikili  category_Yeni tikili  title_deed_var  \\\n",
      "0          3.0                   True                 False            True   \n",
      "1          2.0                  False                  True           False   \n",
      "2          2.0                   True                 False            True   \n",
      "3          3.0                   True                 False            True   \n",
      "4          3.0                  False                  True            True   \n",
      "5          1.0                   True                 False            True   \n",
      "6          5.0                  False                  True           False   \n",
      "7          2.0                  False                  True           False   \n",
      "8          2.0                   True                 False            True   \n",
      "9          2.0                  False                  True            True   \n",
      "\n",
      "   title_deed_yoxdur  repair_var  repair_yoxdur  mortgage_var  \n",
      "0              False        True          False         False  \n",
      "1               True        True          False         False  \n",
      "2              False        True          False          True  \n",
      "3              False        True          False          True  \n",
      "4              False       False           True         False  \n",
      "5              False        True          False         False  \n",
      "6               True        True          False         False  \n",
      "7               True        True          False         False  \n",
      "8              False        True          False         False  \n",
      "9              False        True          False          True  \n"
     ]
    }
   ],
   "source": [
    "data_house = pd.get_dummies(data_house, columns=['category', 'title_deed',  'repair', 'mortgage'])\n",
    "\n",
    "print(data_house.head(10))"
   ]
  },
  {
   "cell_type": "code",
   "execution_count": 8,
   "metadata": {},
   "outputs": [],
   "source": [
    "gather_data = data_house.groupby(['room_number', 'category_Köhnə tikili', 'category_Yeni tikili']).agg({'price': ['mean', 'median', lambda x: x.mode()[0]]})\n",
    "gather_data.columns = ['avg_price', 'median_price', 'mode_price']"
   ]
  },
  {
   "cell_type": "code",
   "execution_count": 9,
   "metadata": {},
   "outputs": [
    {
     "name": "stdout",
     "output_type": "stream",
     "text": [
      "                                                        avg_price  \\\n",
      "room_number category_Köhnə tikili category_Yeni tikili              \n",
      "1.0         False                 True                   0.018380   \n",
      "            True                  False                  0.012295   \n",
      "2.0         False                 True                   0.026653   \n",
      "            True                  False                  0.017951   \n",
      "3.0         False                 True                   0.044644   \n",
      "            True                  False                  0.027152   \n",
      "4.0         False                 True                   0.074255   \n",
      "            True                  False                  0.036024   \n",
      "5.0         False                 True                   0.118087   \n",
      "            True                  False                  0.048823   \n",
      "6.0         False                 True                   0.160358   \n",
      "            True                  False                  0.117555   \n",
      "7.0         False                 True                   0.199524   \n",
      "            True                  False                  0.146445   \n",
      "8.0         False                 True                   0.324756   \n",
      "            True                  False                  0.222635   \n",
      "9.0         False                 True                   0.276606   \n",
      "10.0        False                 True                   0.357852   \n",
      "            True                  False                  0.526721   \n",
      "11.0        False                 True                   0.385526   \n",
      "12.0        True                  False                  0.388681   \n",
      "14.0        False                 True                   0.201341   \n",
      "15.0        False                 True                   0.623472   \n",
      "\n",
      "                                                        median_price  \\\n",
      "room_number category_Köhnə tikili category_Yeni tikili                 \n",
      "1.0         False                 True                      0.017945   \n",
      "            True                  False                     0.011635   \n",
      "2.0         False                 True                      0.024847   \n",
      "            True                  False                     0.016959   \n",
      "3.0         False                 True                      0.042595   \n",
      "            True                  False                     0.024551   \n",
      "4.0         False                 True                      0.067245   \n",
      "            True                  False                     0.029777   \n",
      "5.0         False                 True                      0.096825   \n",
      "            True                  False                     0.034017   \n",
      "6.0         False                 True                      0.142181   \n",
      "            True                  False                     0.092881   \n",
      "7.0         False                 True                      0.167817   \n",
      "            True                  False                     0.117531   \n",
      "8.0         False                 True                      0.246697   \n",
      "            True                  False                     0.171761   \n",
      "9.0         False                 True                      0.229935   \n",
      "10.0        False                 True                      0.309801   \n",
      "            True                  False                     0.526721   \n",
      "11.0        False                 True                      0.385526   \n",
      "12.0        True                  False                     0.388681   \n",
      "14.0        False                 True                      0.201341   \n",
      "15.0        False                 True                      0.585880   \n",
      "\n",
      "                                                        mode_price  \n",
      "room_number category_Köhnə tikili category_Yeni tikili              \n",
      "1.0         False                 True                    0.019917  \n",
      "            True                  False                   0.013015  \n",
      "2.0         False                 True                    0.022875  \n",
      "            True                  False                   0.017945  \n",
      "3.0         False                 True                    0.043581  \n",
      "            True                  False                   0.028791  \n",
      "4.0         False                 True                    0.063301  \n",
      "            True                  False                   0.026819  \n",
      "5.0         False                 True                    0.083021  \n",
      "            True                  False                   0.037665  \n",
      "6.0         False                 True                    0.191481  \n",
      "            True                  False                   0.048511  \n",
      "7.0         False                 True                    0.061724  \n",
      "            True                  False                   0.026819  \n",
      "8.0         False                 True                    0.104713  \n",
      "            True                  False                   0.142161  \n",
      "9.0         False                 True                    0.152041  \n",
      "10.0        False                 True                    0.485309  \n",
      "            True                  False                   0.526721  \n",
      "11.0        False                 True                    0.329521  \n",
      "12.0        True                  False                   0.388681  \n",
      "14.0        False                 True                    0.201341  \n",
      "15.0        False                 True                    0.585880  \n"
     ]
    }
   ],
   "source": [
    "gather_data.to_csv('gather_data.xlsx')\n",
    "\n",
    "print(gather_data)"
   ]
  },
  {
   "cell_type": "code",
   "execution_count": null,
   "metadata": {},
   "outputs": [],
   "source": []
  }
 ],
 "metadata": {
  "kernelspec": {
   "display_name": "Python 3",
   "language": "python",
   "name": "python3"
  },
  "language_info": {
   "codemirror_mode": {
    "name": "ipython",
    "version": 3
   },
   "file_extension": ".py",
   "mimetype": "text/x-python",
   "name": "python",
   "nbconvert_exporter": "python",
   "pygments_lexer": "ipython3",
   "version": "3.12.1"
  }
 },
 "nbformat": 4,
 "nbformat_minor": 2
}
