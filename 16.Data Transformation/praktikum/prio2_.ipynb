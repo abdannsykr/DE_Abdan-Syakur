{
 "cells": [
  {
   "cell_type": "code",
   "execution_count": 4,
   "metadata": {},
   "outputs": [],
   "source": [
    "import pandas as pd"
   ]
  },
  {
   "cell_type": "code",
   "execution_count": 7,
   "metadata": {},
   "outputs": [
    {
     "name": "stdout",
     "output_type": "stream",
     "text": [
      "<class 'pandas.core.frame.DataFrame'>\n",
      "RangeIndex: 35503 entries, 0 to 35502\n",
      "Data columns (total 13 columns):\n",
      " #   Column       Non-Null Count  Dtype  \n",
      "---  ------       --------------  -----  \n",
      " 0   category     35466 non-null  object \n",
      " 1   price        35466 non-null  object \n",
      " 2   currency     35466 non-null  object \n",
      " 3   price_1m2    35466 non-null  object \n",
      " 4   title        35466 non-null  object \n",
      " 5   address      35466 non-null  object \n",
      " 6   floor        35466 non-null  object \n",
      " 7   area         35466 non-null  object \n",
      " 8   title_deed   35466 non-null  object \n",
      " 9   repair       33774 non-null  object \n",
      " 10  mortgage     11642 non-null  object \n",
      " 11  url          35503 non-null  object \n",
      " 12  room_number  35466 non-null  float64\n",
      "dtypes: float64(1), object(12)\n",
      "memory usage: 3.5+ MB\n",
      "None\n"
     ]
    }
   ],
   "source": [
    "house_data = pd.read_csv('house_listings.csv')\n",
    "\n",
    "print(house_data.info())"
   ]
  },
  {
   "cell_type": "code",
   "execution_count": 8,
   "metadata": {},
   "outputs": [
    {
     "name": "stderr",
     "output_type": "stream",
     "text": [
      "C:\\Users\\abdan\\AppData\\Local\\Temp\\ipykernel_4052\\2407624599.py:7: FutureWarning: A value is trying to be set on a copy of a DataFrame or Series through chained assignment using an inplace method.\n",
      "The behavior will change in pandas 3.0. This inplace method will never work because the intermediate object on which we are setting values always behaves as a copy.\n",
      "\n",
      "For example, when doing 'df[col].method(value, inplace=True)', try using 'df.method({col: value}, inplace=True)' or df[col] = df[col].method(value) instead, to perform the operation inplace on the original object.\n",
      "\n",
      "\n",
      "  house_data['area'].fillna(house_data['area'].median(), inplace=True)\n"
     ]
    }
   ],
   "source": [
    "house_data['area'] = house_data['area'].str.replace(' m²', '').astype(float)\n",
    "\n",
    "house_data['price'] = house_data['price'].str.replace(' ', '').astype(float)\n",
    "\n",
    "house_data['area'].fillna(house_data['area'].median(), inplace=True)\n"
   ]
  },
  {
   "cell_type": "code",
   "execution_count": 10,
   "metadata": {},
   "outputs": [],
   "source": [
    "Q1 = house_data['price'].quantile(0.25)\n",
    "Q3 = house_data['price'].quantile(0.75)\n",
    "IQR = Q3 - Q1\n",
    "lower_bound = Q1 - 1.5 * IQR\n",
    "upper_bound = Q3 + 1.5 * IQR\n",
    "house_data = house_data[(house_data['price'] >= lower_bound) & (house_data['price'] <= upper_bound)]"
   ]
  },
  {
   "cell_type": "code",
   "execution_count": 12,
   "metadata": {},
   "outputs": [],
   "source": [
    "selected_columns = ['url', 'area', 'floor', 'address', 'price']\n",
    "house_data_selected = house_data[selected_columns]\n",
    "\n",
    "house_data_selected.to_excel('house_listings_save_data.xlsx', index=False)\n"
   ]
  },
  {
   "cell_type": "code",
   "execution_count": null,
   "metadata": {},
   "outputs": [],
   "source": []
  }
 ],
 "metadata": {
  "kernelspec": {
   "display_name": "Python 3",
   "language": "python",
   "name": "python3"
  },
  "language_info": {
   "codemirror_mode": {
    "name": "ipython",
    "version": 3
   },
   "file_extension": ".py",
   "mimetype": "text/x-python",
   "name": "python",
   "nbconvert_exporter": "python",
   "pygments_lexer": "ipython3",
   "version": "3.12.1"
  }
 },
 "nbformat": 4,
 "nbformat_minor": 2
}
