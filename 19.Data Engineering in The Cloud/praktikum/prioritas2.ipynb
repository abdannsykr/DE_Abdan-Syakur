{
 "cells": [
  {
   "cell_type": "code",
   "execution_count": 1,
   "metadata": {},
   "outputs": [],
   "source": [
    "import pandas as pd\n",
    "import json\n",
    "import urllib.request\n",
    "import firebase_admin\n",
    "from firebase_admin import credentials\n",
    "from firebase_admin import storage"
   ]
  },
  {
   "cell_type": "markdown",
   "metadata": {},
   "source": [
    "# Ekstrak Data "
   ]
  },
  {
   "cell_type": "code",
   "execution_count": 2,
   "metadata": {},
   "outputs": [
    {
     "name": "stdout",
     "output_type": "stream",
     "text": [
      "   trade_id stock_symbol trade_date  trade_time  trade_price  trade_volume  \\\n",
      "0         1        GOOGL   1/5/2017           3       675.51        501030   \n",
      "1         2         NVDA  3/27/2017          13       559.39         51823   \n",
      "2         3         NFLX  11/7/2015           0       811.33        684430   \n",
      "3         4         MSFT  5/29/2017          22       231.21        237465   \n",
      "4         5          JPM  11/8/2012          16       699.15        800344   \n",
      "\n",
      "   buyer_id  seller_id trade_type currency  \n",
      "0         1          1       sell      EUR  \n",
      "1         2          2        buy      ZAR  \n",
      "2         3          3       sell      ZWL  \n",
      "3         4          4        buy      IDR  \n",
      "4         5          5        buy      HRK  \n"
     ]
    }
   ],
   "source": [
    "url = \"https://gist.githubusercontent.com/nadirbslmh/93b62fdcfa694d4ec07bed9b3c94e401/raw/c07971341361e23fd4f3a880437c4d8e4ebcfafc/stock_trades.json\"\n",
    "\n",
    "response = urllib.request.urlopen(url)\n",
    "data = json.loads(response.read())\n",
    "df = pd.DataFrame(data)\n",
    "\n",
    "print(df.head())"
   ]
  },
  {
   "cell_type": "markdown",
   "metadata": {},
   "source": [
    "# Transformasi data"
   ]
  },
  {
   "cell_type": "code",
   "execution_count": 3,
   "metadata": {},
   "outputs": [],
   "source": [
    "saham_yang_diinginkan = ['GOOGL', 'AMZN', 'MSFT', 'AAPL']\n",
    "transaksi_terpilih = df[df['stock_symbol'].isin(saham_yang_diinginkan)]\n",
    "transaksi_diatas_500 = transaksi_terpilih[transaksi_terpilih['trade_price'] > 500]\n",
    "\n",
    "transaksi_diatas_500.to_csv('transaksi_diatas_500.csv', index=False)"
   ]
  },
  {
   "cell_type": "markdown",
   "metadata": {},
   "source": [
    "# Load data dalam format parquet "
   ]
  },
  {
   "cell_type": "code",
   "execution_count": 4,
   "metadata": {},
   "outputs": [],
   "source": [
    "cred = credentials.Certificate(r\"C:\\Users\\abdan\\Documents\\GitHub\\DE_Abdan-Syakur\\19.Data Engineering in The Cloud\\praktikum\\pythonKey.json\")\n",
    "firebase_admin.initialize_app(cred, {\"storageBucket\": \"explore-de-23f1b.appspot.com\"})\n",
    "\n",
    "bucket = storage.bucket()\n",
    "\n",
    "df = pd.read_csv(\"transaksi_diatas_500.csv\")\n",
    "df.to_parquet(\"transaksi_diatas_500.parquet\")\n",
    "\n",
    "blob = bucket.blob(\"transaksi_diatas_500.parquet\")\n",
    "blob.upload_from_filename(\"transaksi_diatas_500.parquet\")"
   ]
  },
  {
   "cell_type": "code",
   "execution_count": null,
   "metadata": {},
   "outputs": [],
   "source": []
  }
 ],
 "metadata": {
  "kernelspec": {
   "display_name": "Python 3",
   "language": "python",
   "name": "python3"
  },
  "language_info": {
   "codemirror_mode": {
    "name": "ipython",
    "version": 3
   },
   "file_extension": ".py",
   "mimetype": "text/x-python",
   "name": "python",
   "nbconvert_exporter": "python",
   "pygments_lexer": "ipython3",
   "version": "3.12.1"
  }
 },
 "nbformat": 4,
 "nbformat_minor": 2
}
