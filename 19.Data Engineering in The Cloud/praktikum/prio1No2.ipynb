{
 "cells": [
  {
   "cell_type": "code",
   "execution_count": 8,
   "metadata": {},
   "outputs": [],
   "source": [
    "import pandas as pd\n",
    "import json\n",
    "import urllib.request\n",
    "import firebase_admin\n",
    "from firebase_admin import credentials\n",
    "from firebase_admin import storage"
   ]
  },
  {
   "cell_type": "markdown",
   "metadata": {},
   "source": [
    "# ekstrak data"
   ]
  },
  {
   "cell_type": "code",
   "execution_count": 9,
   "metadata": {},
   "outputs": [
    {
     "name": "stdout",
     "output_type": "stream",
     "text": [
      "   transaction_id transaction_date   customer_name  transaction_amount  \\\n",
      "0               1       01-11-2023        John Doe                50.0   \n",
      "1               2       01-11-2023      Jane Smith               120.5   \n",
      "2               3       02-11-2023     Bob Johnson               800.0   \n",
      "3               4       03-11-2023  Alice Williams                30.0   \n",
      "4               5       03-11-2023   Charlie Brown               150.0   \n",
      "\n",
      "  item_category              item_name payment_method   status  \n",
      "0          book       The Great Gatsby    credit card  success  \n",
      "1        gaming          PlayStation 5           cash  success  \n",
      "2    technology                 Laptop    credit card   failed  \n",
      "3       kitchen           Coffee Maker       e wallet  success  \n",
      "4          book  To Kill a Mockingbird    credit card  success  \n"
     ]
    }
   ],
   "source": [
    "url = \"https://gist.githubusercontent.com/nadirbslmh/8fc9cc6cd5cbaaf5cbff63b090fb497e/raw/a7bf3e1edab88b04314a40a9de3ed744bc86d0e9/ecommerce.json\"\n",
    "\n",
    "response = urllib.request.urlopen(url)\n",
    "data = json.loads(response.read())\n",
    "\n",
    "df = pd.DataFrame(data)\n",
    "\n",
    "print(df.head())"
   ]
  },
  {
   "cell_type": "markdown",
   "metadata": {},
   "source": [
    "# Transformasi data"
   ]
  },
  {
   "cell_type": "code",
   "execution_count": 16,
   "metadata": {},
   "outputs": [
    {
     "name": "stdout",
     "output_type": "stream",
     "text": [
      "    transaction_id transaction_date   customer_name  transaction_amount  \\\n",
      "0                1       01-11-2023        John Doe                50.0   \n",
      "4                5       03-11-2023   Charlie Brown               150.0   \n",
      "8                9       05-11-2023   Olivia Martin               350.0   \n",
      "11              12       07-11-2023  William Turner                18.0   \n",
      "15              16       10-11-2023   Lily Anderson                 8.0   \n",
      "\n",
      "   item_category              item_name payment_method   status  \n",
      "0           book       The Great Gatsby    credit card  success  \n",
      "4           book  To Kill a Mockingbird    credit card  success  \n",
      "8           book                   1984    credit card  success  \n",
      "11       kitchen                Toaster    credit card  success  \n",
      "15       kitchen          Kitchen Scale    credit card  success  \n",
      "\n",
      "Data berhasil disimpan ke 'transaksi_credit_card_success.csv'\n"
     ]
    }
   ],
   "source": [
    "filtered_df = df[(df['payment_method'] == 'credit card') & (df['status'] == 'success')]\n",
    "\n",
    "print(filtered_df.head())\n",
    "\n",
    "filtered_df.to_csv('transaksi_credit_card_success.csv', index=False)\n",
    "\n",
    "print(\"\\nData berhasil disimpan ke 'transaksi_credit_card_success.csv'\")"
   ]
  },
  {
   "cell_type": "markdown",
   "metadata": {},
   "source": [
    "# Load data dalam format csv"
   ]
  },
  {
   "cell_type": "code",
   "execution_count": 17,
   "metadata": {},
   "outputs": [],
   "source": [
    "cred = credentials.Certificate(r\"C:\\Users\\abdan\\Documents\\GitHub\\DE_Abdan-Syakur\\19.Data Engineering in The Cloud\\praktikum\\pythonKey.json\")\n",
    "firebase_admin.initialize_app(cred, {\"storageBucket\": \"explore-de-23f1b.appspot.com\"})\n",
    "bucket = storage.bucket()\n",
    "\n",
    "blob_name = 'transaksi_credit_card_success.csv'\n",
    "blob = bucket.blob(blob_name='transaksi_credit_card_success.csv')\n",
    "\n",
    "blob.upload_from_filename(\"transaksi_credit_card_success.csv\")"
   ]
  },
  {
   "cell_type": "code",
   "execution_count": null,
   "metadata": {},
   "outputs": [],
   "source": []
  }
 ],
 "metadata": {
  "kernelspec": {
   "display_name": "Python 3",
   "language": "python",
   "name": "python3"
  },
  "language_info": {
   "codemirror_mode": {
    "name": "ipython",
    "version": 3
   },
   "file_extension": ".py",
   "mimetype": "text/x-python",
   "name": "python",
   "nbconvert_exporter": "python",
   "pygments_lexer": "ipython3",
   "version": "3.12.1"
  }
 },
 "nbformat": 4,
 "nbformat_minor": 2
}
