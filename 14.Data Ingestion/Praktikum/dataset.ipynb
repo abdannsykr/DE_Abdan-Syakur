{
 "cells": [
  {
   "cell_type": "code",
   "execution_count": 1,
   "metadata": {},
   "outputs": [],
   "source": [
    "import pandas as pd\n",
    "import pymysql\n",
    "import requests\n"
   ]
  },
  {
   "cell_type": "code",
   "execution_count": 2,
   "metadata": {},
   "outputs": [],
   "source": [
    "transactions = pd.read_csv('transactions.csv')\n"
   ]
  },
  {
   "cell_type": "code",
   "execution_count": 5,
   "metadata": {},
   "outputs": [],
   "source": [
    "products = pd.read_excel('products.xlsx')\n"
   ]
  },
  {
   "cell_type": "code",
   "execution_count": 61,
   "metadata": {},
   "outputs": [
    {
     "name": "stderr",
     "output_type": "stream",
     "text": [
      "C:\\Users\\abdan\\AppData\\Local\\Temp\\ipykernel_6600\\1556133460.py:2: UserWarning: pandas only supports SQLAlchemy connectable (engine/connection) or database string URI or sqlite3 DBAPI2 connection. Other DBAPI2 objects are not tested. Please consider using SQLAlchemy.\n",
      "  customers_df = pd.read_sql_query('SELECT * FROM customers', connection)\n"
     ]
    }
   ],
   "source": [
    "connection = pymysql.connect(host='localhost', user='root', password='abdan014', database='customers')\n",
    "customers_df = pd.read_sql_query('SELECT * FROM customers', connection)\n",
    "connection.close()"
   ]
  },
  {
   "cell_type": "code",
   "execution_count": 62,
   "metadata": {},
   "outputs": [],
   "source": [
    "response = requests.get('https://fakestoreapi.com/products')\n",
    "shipping_data = response.json()"
   ]
  },
  {
   "cell_type": "code",
   "execution_count": 67,
   "metadata": {},
   "outputs": [
    {
     "data": {
      "text/html": [
       "<div>\n",
       "<style scoped>\n",
       "    .dataframe tbody tr th:only-of-type {\n",
       "        vertical-align: middle;\n",
       "    }\n",
       "\n",
       "    .dataframe tbody tr th {\n",
       "        vertical-align: top;\n",
       "    }\n",
       "\n",
       "    .dataframe thead th {\n",
       "        text-align: right;\n",
       "    }\n",
       "</style>\n",
       "<table border=\"1\" class=\"dataframe\">\n",
       "  <thead>\n",
       "    <tr style=\"text-align: right;\">\n",
       "      <th></th>\n",
       "      <th>ID</th>\n",
       "      <th>Product Name</th>\n",
       "      <th>Category</th>\n",
       "      <th>Description</th>\n",
       "      <th>Price</th>\n",
       "    </tr>\n",
       "  </thead>\n",
       "  <tbody>\n",
       "    <tr>\n",
       "      <th>0</th>\n",
       "      <td>1</td>\n",
       "      <td>Laptop</td>\n",
       "      <td>Electronics</td>\n",
       "      <td>A powerful laptop with high performance and lo...</td>\n",
       "      <td>999.99</td>\n",
       "    </tr>\n",
       "    <tr>\n",
       "      <th>1</th>\n",
       "      <td>2</td>\n",
       "      <td>Smartphone</td>\n",
       "      <td>Electronics</td>\n",
       "      <td>A sleek smartphone with advanced features and ...</td>\n",
       "      <td>799.99</td>\n",
       "    </tr>\n",
       "    <tr>\n",
       "      <th>2</th>\n",
       "      <td>3</td>\n",
       "      <td>Headphones</td>\n",
       "      <td>Electronics</td>\n",
       "      <td>High-quality headphones with noise-canceling t...</td>\n",
       "      <td>199.99</td>\n",
       "    </tr>\n",
       "    <tr>\n",
       "      <th>3</th>\n",
       "      <td>4</td>\n",
       "      <td>Smartwatch</td>\n",
       "      <td>Electronics</td>\n",
       "      <td>A smartwatch with fitness tracking</td>\n",
       "      <td>299.99</td>\n",
       "    </tr>\n",
       "    <tr>\n",
       "      <th>4</th>\n",
       "      <td>5</td>\n",
       "      <td>Bluetooth Speaker</td>\n",
       "      <td>Electronics</td>\n",
       "      <td>A portable Bluetooth speaker with deep bass an...</td>\n",
       "      <td>79.99</td>\n",
       "    </tr>\n",
       "  </tbody>\n",
       "</table>\n",
       "</div>"
      ],
      "text/plain": [
       "   ID       Product Name     Category  \\\n",
       "0   1             Laptop  Electronics   \n",
       "1   2         Smartphone  Electronics   \n",
       "2   3         Headphones  Electronics   \n",
       "3   4         Smartwatch  Electronics   \n",
       "4   5  Bluetooth Speaker  Electronics   \n",
       "\n",
       "                                         Description   Price  \n",
       "0  A powerful laptop with high performance and lo...  999.99  \n",
       "1  A sleek smartphone with advanced features and ...  799.99  \n",
       "2  High-quality headphones with noise-canceling t...  199.99  \n",
       "3                 A smartwatch with fitness tracking  299.99  \n",
       "4  A portable Bluetooth speaker with deep bass an...   79.99  "
      ]
     },
     "execution_count": 67,
     "metadata": {},
     "output_type": "execute_result"
    }
   ],
   "source": [
    "products.head()"
   ]
  },
  {
   "cell_type": "code",
   "execution_count": 54,
   "metadata": {},
   "outputs": [
    {
     "data": {
      "text/html": [
       "<div>\n",
       "<style scoped>\n",
       "    .dataframe tbody tr th:only-of-type {\n",
       "        vertical-align: middle;\n",
       "    }\n",
       "\n",
       "    .dataframe tbody tr th {\n",
       "        vertical-align: top;\n",
       "    }\n",
       "\n",
       "    .dataframe thead th {\n",
       "        text-align: right;\n",
       "    }\n",
       "</style>\n",
       "<table border=\"1\" class=\"dataframe\">\n",
       "  <thead>\n",
       "    <tr style=\"text-align: right;\">\n",
       "      <th></th>\n",
       "      <th>ID</th>\n",
       "      <th>Product Name</th>\n",
       "      <th>Category</th>\n",
       "      <th>Description</th>\n",
       "      <th>Price</th>\n",
       "    </tr>\n",
       "  </thead>\n",
       "  <tbody>\n",
       "    <tr>\n",
       "      <th>95</th>\n",
       "      <td>96</td>\n",
       "      <td>Baby Musical Toy</td>\n",
       "      <td>Baby &amp; Kids</td>\n",
       "      <td>A musical toy for entertaining and stimulating...</td>\n",
       "      <td>12.99</td>\n",
       "    </tr>\n",
       "    <tr>\n",
       "      <th>96</th>\n",
       "      <td>97</td>\n",
       "      <td>Baby Floor Mirror</td>\n",
       "      <td>Baby &amp; Kids</td>\n",
       "      <td>A large floor mirror for baby's self-discovery...</td>\n",
       "      <td>19.99</td>\n",
       "    </tr>\n",
       "    <tr>\n",
       "      <th>97</th>\n",
       "      <td>98</td>\n",
       "      <td>Baby Mobile</td>\n",
       "      <td>Baby &amp; Kids</td>\n",
       "      <td>A colorful baby mobile with rotating character...</td>\n",
       "      <td>29.99</td>\n",
       "    </tr>\n",
       "    <tr>\n",
       "      <th>98</th>\n",
       "      <td>99</td>\n",
       "      <td>Baby Stroller Organizer</td>\n",
       "      <td>Baby &amp; Kids</td>\n",
       "      <td>A stroller organizer with multiple pockets for...</td>\n",
       "      <td>19.99</td>\n",
       "    </tr>\n",
       "    <tr>\n",
       "      <th>99</th>\n",
       "      <td>100</td>\n",
       "      <td>Baby Sun Hat</td>\n",
       "      <td>Baby &amp; Kids</td>\n",
       "      <td>A wide-brimmed sun hat for protecting baby's d...</td>\n",
       "      <td>9.99</td>\n",
       "    </tr>\n",
       "  </tbody>\n",
       "</table>\n",
       "</div>"
      ],
      "text/plain": [
       "     ID             Product Name     Category  \\\n",
       "95   96         Baby Musical Toy  Baby & Kids   \n",
       "96   97        Baby Floor Mirror  Baby & Kids   \n",
       "97   98              Baby Mobile  Baby & Kids   \n",
       "98   99  Baby Stroller Organizer  Baby & Kids   \n",
       "99  100             Baby Sun Hat  Baby & Kids   \n",
       "\n",
       "                                          Description  Price  \n",
       "95  A musical toy for entertaining and stimulating...  12.99  \n",
       "96  A large floor mirror for baby's self-discovery...  19.99  \n",
       "97  A colorful baby mobile with rotating character...  29.99  \n",
       "98  A stroller organizer with multiple pockets for...  19.99  \n",
       "99  A wide-brimmed sun hat for protecting baby's d...   9.99  "
      ]
     },
     "execution_count": 54,
     "metadata": {},
     "output_type": "execute_result"
    }
   ],
   "source": [
    "products.tail()"
   ]
  },
  {
   "cell_type": "code",
   "execution_count": 68,
   "metadata": {},
   "outputs": [
    {
     "name": "stdout",
     "output_type": "stream",
     "text": [
      "<class 'pandas.core.frame.DataFrame'>\n",
      "RangeIndex: 100 entries, 0 to 99\n",
      "Data columns (total 5 columns):\n",
      " #   Column        Non-Null Count  Dtype  \n",
      "---  ------        --------------  -----  \n",
      " 0   ID            100 non-null    int64  \n",
      " 1   Product Name  100 non-null    object \n",
      " 2   Category      100 non-null    object \n",
      " 3   Description   100 non-null    object \n",
      " 4   Price         100 non-null    float64\n",
      "dtypes: float64(1), int64(1), object(3)\n",
      "memory usage: 4.0+ KB\n"
     ]
    }
   ],
   "source": [
    "products.info()"
   ]
  },
  {
   "cell_type": "code",
   "execution_count": 55,
   "metadata": {},
   "outputs": [
    {
     "data": {
      "text/html": [
       "<div>\n",
       "<style scoped>\n",
       "    .dataframe tbody tr th:only-of-type {\n",
       "        vertical-align: middle;\n",
       "    }\n",
       "\n",
       "    .dataframe tbody tr th {\n",
       "        vertical-align: top;\n",
       "    }\n",
       "\n",
       "    .dataframe thead th {\n",
       "        text-align: right;\n",
       "    }\n",
       "</style>\n",
       "<table border=\"1\" class=\"dataframe\">\n",
       "  <thead>\n",
       "    <tr style=\"text-align: right;\">\n",
       "      <th></th>\n",
       "      <th>Transaction ID</th>\n",
       "      <th>User ID</th>\n",
       "      <th>Item Name</th>\n",
       "      <th>Quantity</th>\n",
       "      <th>Value (USD)</th>\n",
       "      <th>Status</th>\n",
       "    </tr>\n",
       "  </thead>\n",
       "  <tbody>\n",
       "    <tr>\n",
       "      <th>0</th>\n",
       "      <td>1</td>\n",
       "      <td>1001</td>\n",
       "      <td>Smartphone</td>\n",
       "      <td>1</td>\n",
       "      <td>799.99</td>\n",
       "      <td>success</td>\n",
       "    </tr>\n",
       "    <tr>\n",
       "      <th>1</th>\n",
       "      <td>2</td>\n",
       "      <td>1002</td>\n",
       "      <td>Headphones</td>\n",
       "      <td>2</td>\n",
       "      <td>399.98</td>\n",
       "      <td>success</td>\n",
       "    </tr>\n",
       "    <tr>\n",
       "      <th>2</th>\n",
       "      <td>3</td>\n",
       "      <td>1003</td>\n",
       "      <td>Laptop</td>\n",
       "      <td>1</td>\n",
       "      <td>999.99</td>\n",
       "      <td>success</td>\n",
       "    </tr>\n",
       "    <tr>\n",
       "      <th>3</th>\n",
       "      <td>4</td>\n",
       "      <td>1004</td>\n",
       "      <td>Bluetooth Speaker</td>\n",
       "      <td>1</td>\n",
       "      <td>79.99</td>\n",
       "      <td>success</td>\n",
       "    </tr>\n",
       "    <tr>\n",
       "      <th>4</th>\n",
       "      <td>5</td>\n",
       "      <td>1005</td>\n",
       "      <td>Smartwatch</td>\n",
       "      <td>1</td>\n",
       "      <td>299.99</td>\n",
       "      <td>pending</td>\n",
       "    </tr>\n",
       "  </tbody>\n",
       "</table>\n",
       "</div>"
      ],
      "text/plain": [
       "   Transaction ID  User ID          Item Name  Quantity  Value (USD)   Status\n",
       "0               1     1001         Smartphone         1       799.99  success\n",
       "1               2     1002         Headphones         2       399.98  success\n",
       "2               3     1003             Laptop         1       999.99  success\n",
       "3               4     1004  Bluetooth Speaker         1        79.99  success\n",
       "4               5     1005         Smartwatch         1       299.99  pending"
      ]
     },
     "execution_count": 55,
     "metadata": {},
     "output_type": "execute_result"
    }
   ],
   "source": [
    "transactions.head()"
   ]
  },
  {
   "cell_type": "code",
   "execution_count": 56,
   "metadata": {},
   "outputs": [
    {
     "data": {
      "text/html": [
       "<div>\n",
       "<style scoped>\n",
       "    .dataframe tbody tr th:only-of-type {\n",
       "        vertical-align: middle;\n",
       "    }\n",
       "\n",
       "    .dataframe tbody tr th {\n",
       "        vertical-align: top;\n",
       "    }\n",
       "\n",
       "    .dataframe thead th {\n",
       "        text-align: right;\n",
       "    }\n",
       "</style>\n",
       "<table border=\"1\" class=\"dataframe\">\n",
       "  <thead>\n",
       "    <tr style=\"text-align: right;\">\n",
       "      <th></th>\n",
       "      <th>Transaction ID</th>\n",
       "      <th>User ID</th>\n",
       "      <th>Item Name</th>\n",
       "      <th>Quantity</th>\n",
       "      <th>Value (USD)</th>\n",
       "      <th>Status</th>\n",
       "    </tr>\n",
       "  </thead>\n",
       "  <tbody>\n",
       "    <tr>\n",
       "      <th>95</th>\n",
       "      <td>96</td>\n",
       "      <td>1096</td>\n",
       "      <td>Baby Musical Toy</td>\n",
       "      <td>1</td>\n",
       "      <td>12.99</td>\n",
       "      <td>success</td>\n",
       "    </tr>\n",
       "    <tr>\n",
       "      <th>96</th>\n",
       "      <td>97</td>\n",
       "      <td>1097</td>\n",
       "      <td>Baby Floor Mirror</td>\n",
       "      <td>1</td>\n",
       "      <td>19.99</td>\n",
       "      <td>failed</td>\n",
       "    </tr>\n",
       "    <tr>\n",
       "      <th>97</th>\n",
       "      <td>98</td>\n",
       "      <td>1098</td>\n",
       "      <td>Baby Mobile</td>\n",
       "      <td>1</td>\n",
       "      <td>29.99</td>\n",
       "      <td>success</td>\n",
       "    </tr>\n",
       "    <tr>\n",
       "      <th>98</th>\n",
       "      <td>99</td>\n",
       "      <td>1099</td>\n",
       "      <td>Baby Stroller Organizer</td>\n",
       "      <td>1</td>\n",
       "      <td>19.99</td>\n",
       "      <td>success</td>\n",
       "    </tr>\n",
       "    <tr>\n",
       "      <th>99</th>\n",
       "      <td>100</td>\n",
       "      <td>1100</td>\n",
       "      <td>Baby Sun Hat</td>\n",
       "      <td>1</td>\n",
       "      <td>9.99</td>\n",
       "      <td>failed</td>\n",
       "    </tr>\n",
       "  </tbody>\n",
       "</table>\n",
       "</div>"
      ],
      "text/plain": [
       "    Transaction ID  User ID                Item Name  Quantity  Value (USD)  \\\n",
       "95              96     1096         Baby Musical Toy         1        12.99   \n",
       "96              97     1097        Baby Floor Mirror         1        19.99   \n",
       "97              98     1098              Baby Mobile         1        29.99   \n",
       "98              99     1099  Baby Stroller Organizer         1        19.99   \n",
       "99             100     1100             Baby Sun Hat         1         9.99   \n",
       "\n",
       "     Status  \n",
       "95  success  \n",
       "96   failed  \n",
       "97  success  \n",
       "98  success  \n",
       "99   failed  "
      ]
     },
     "execution_count": 56,
     "metadata": {},
     "output_type": "execute_result"
    }
   ],
   "source": [
    "transactions.tail()"
   ]
  },
  {
   "cell_type": "code",
   "execution_count": 69,
   "metadata": {},
   "outputs": [
    {
     "name": "stdout",
     "output_type": "stream",
     "text": [
      "<class 'pandas.core.frame.DataFrame'>\n",
      "RangeIndex: 100 entries, 0 to 99\n",
      "Data columns (total 6 columns):\n",
      " #   Column          Non-Null Count  Dtype  \n",
      "---  ------          --------------  -----  \n",
      " 0   Transaction ID  100 non-null    int64  \n",
      " 1   User ID         100 non-null    int64  \n",
      " 2   Item Name       100 non-null    object \n",
      " 3   Quantity        100 non-null    int64  \n",
      " 4   Value (USD)     100 non-null    float64\n",
      " 5   Status          100 non-null    object \n",
      "dtypes: float64(1), int64(3), object(2)\n",
      "memory usage: 4.8+ KB\n"
     ]
    }
   ],
   "source": [
    "transactions.info()"
   ]
  },
  {
   "cell_type": "code",
   "execution_count": 70,
   "metadata": {},
   "outputs": [
    {
     "data": {
      "text/html": [
       "<div>\n",
       "<style scoped>\n",
       "    .dataframe tbody tr th:only-of-type {\n",
       "        vertical-align: middle;\n",
       "    }\n",
       "\n",
       "    .dataframe tbody tr th {\n",
       "        vertical-align: top;\n",
       "    }\n",
       "\n",
       "    .dataframe thead th {\n",
       "        text-align: right;\n",
       "    }\n",
       "</style>\n",
       "<table border=\"1\" class=\"dataframe\">\n",
       "  <thead>\n",
       "    <tr style=\"text-align: right;\">\n",
       "      <th></th>\n",
       "      <th>name</th>\n",
       "      <th>email</th>\n",
       "      <th>address</th>\n",
       "    </tr>\n",
       "  </thead>\n",
       "  <tbody>\n",
       "    <tr>\n",
       "      <th>0</th>\n",
       "      <td>John Doe</td>\n",
       "      <td>john.doe@example.com</td>\n",
       "      <td>123 Main St, City, Country</td>\n",
       "    </tr>\n",
       "    <tr>\n",
       "      <th>1</th>\n",
       "      <td>Jane Smith</td>\n",
       "      <td>jane.smith@example.com</td>\n",
       "      <td>456 Elm St, City, Country</td>\n",
       "    </tr>\n",
       "    <tr>\n",
       "      <th>2</th>\n",
       "      <td>Michael Johnson</td>\n",
       "      <td>michael.johnson@example.com</td>\n",
       "      <td>789 Oak St, City, Country</td>\n",
       "    </tr>\n",
       "    <tr>\n",
       "      <th>3</th>\n",
       "      <td>Emily Brown</td>\n",
       "      <td>emily.brown@example.com</td>\n",
       "      <td>101 Pine St, City, Country</td>\n",
       "    </tr>\n",
       "    <tr>\n",
       "      <th>4</th>\n",
       "      <td>William Taylor</td>\n",
       "      <td>william.taylor@example.com</td>\n",
       "      <td>202 Maple St, City, Country</td>\n",
       "    </tr>\n",
       "  </tbody>\n",
       "</table>\n",
       "</div>"
      ],
      "text/plain": [
       "              name                        email                      address\n",
       "0         John Doe         john.doe@example.com   123 Main St, City, Country\n",
       "1       Jane Smith       jane.smith@example.com    456 Elm St, City, Country\n",
       "2  Michael Johnson  michael.johnson@example.com    789 Oak St, City, Country\n",
       "3      Emily Brown      emily.brown@example.com   101 Pine St, City, Country\n",
       "4   William Taylor   william.taylor@example.com  202 Maple St, City, Country"
      ]
     },
     "execution_count": 70,
     "metadata": {},
     "output_type": "execute_result"
    }
   ],
   "source": [
    "customers_df.head()"
   ]
  },
  {
   "cell_type": "code",
   "execution_count": 71,
   "metadata": {},
   "outputs": [
    {
     "data": {
      "text/html": [
       "<div>\n",
       "<style scoped>\n",
       "    .dataframe tbody tr th:only-of-type {\n",
       "        vertical-align: middle;\n",
       "    }\n",
       "\n",
       "    .dataframe tbody tr th {\n",
       "        vertical-align: top;\n",
       "    }\n",
       "\n",
       "    .dataframe thead th {\n",
       "        text-align: right;\n",
       "    }\n",
       "</style>\n",
       "<table border=\"1\" class=\"dataframe\">\n",
       "  <thead>\n",
       "    <tr style=\"text-align: right;\">\n",
       "      <th></th>\n",
       "      <th>name</th>\n",
       "      <th>email</th>\n",
       "      <th>address</th>\n",
       "    </tr>\n",
       "  </thead>\n",
       "  <tbody>\n",
       "    <tr>\n",
       "      <th>15</th>\n",
       "      <td>Evelyn Evans</td>\n",
       "      <td>evelyn.evans@example.com</td>\n",
       "      <td>1313 Walnut St, City, Country</td>\n",
       "    </tr>\n",
       "    <tr>\n",
       "      <th>16</th>\n",
       "      <td>Owen Hall</td>\n",
       "      <td>owen.hall@example.com</td>\n",
       "      <td>1414 Cherry St, City, Country</td>\n",
       "    </tr>\n",
       "    <tr>\n",
       "      <th>17</th>\n",
       "      <td>Liam Green</td>\n",
       "      <td>liam.green@example.com</td>\n",
       "      <td>1515 Oak St, City, Country</td>\n",
       "    </tr>\n",
       "    <tr>\n",
       "      <th>18</th>\n",
       "      <td>Avery Hill</td>\n",
       "      <td>avery.hill@example.com</td>\n",
       "      <td>1616 Pine St, City, Country</td>\n",
       "    </tr>\n",
       "    <tr>\n",
       "      <th>19</th>\n",
       "      <td>Lucas Baker</td>\n",
       "      <td>lucas.baker@example.com</td>\n",
       "      <td>1717 Elm St, City, Country</td>\n",
       "    </tr>\n",
       "  </tbody>\n",
       "</table>\n",
       "</div>"
      ],
      "text/plain": [
       "            name                     email                        address\n",
       "15  Evelyn Evans  evelyn.evans@example.com  1313 Walnut St, City, Country\n",
       "16     Owen Hall     owen.hall@example.com  1414 Cherry St, City, Country\n",
       "17    Liam Green    liam.green@example.com     1515 Oak St, City, Country\n",
       "18    Avery Hill    avery.hill@example.com    1616 Pine St, City, Country\n",
       "19   Lucas Baker   lucas.baker@example.com     1717 Elm St, City, Country"
      ]
     },
     "execution_count": 71,
     "metadata": {},
     "output_type": "execute_result"
    }
   ],
   "source": [
    "customers_df.tail()"
   ]
  },
  {
   "cell_type": "code",
   "execution_count": 72,
   "metadata": {},
   "outputs": [
    {
     "name": "stdout",
     "output_type": "stream",
     "text": [
      "<class 'pandas.core.frame.DataFrame'>\n",
      "RangeIndex: 20 entries, 0 to 19\n",
      "Data columns (total 3 columns):\n",
      " #   Column   Non-Null Count  Dtype \n",
      "---  ------   --------------  ----- \n",
      " 0   name     20 non-null     object\n",
      " 1   email    20 non-null     object\n",
      " 2   address  20 non-null     object\n",
      "dtypes: object(3)\n",
      "memory usage: 612.0+ bytes\n"
     ]
    }
   ],
   "source": [
    "customers_df.info()"
   ]
  },
  {
   "cell_type": "code",
   "execution_count": null,
   "metadata": {},
   "outputs": [],
   "source": []
  }
 ],
 "metadata": {
  "kernelspec": {
   "display_name": "Python 3",
   "language": "python",
   "name": "python3"
  },
  "language_info": {
   "codemirror_mode": {
    "name": "ipython",
    "version": 3
   },
   "file_extension": ".py",
   "mimetype": "text/x-python",
   "name": "python",
   "nbconvert_exporter": "python",
   "pygments_lexer": "ipython3",
   "version": "3.12.1"
  }
 },
 "nbformat": 4,
 "nbformat_minor": 2
}
