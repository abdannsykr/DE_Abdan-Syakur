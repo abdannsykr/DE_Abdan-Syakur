{
 "cells": [
  {
   "cell_type": "code",
   "execution_count": 36,
   "metadata": {},
   "outputs": [],
   "source": [
    "import requests\n",
    "from bs4 import BeautifulSoup\n",
    "import pandas as pd"
   ]
  },
  {
   "cell_type": "code",
   "execution_count": 87,
   "metadata": {},
   "outputs": [],
   "source": [
    "df_products_all = pd.DataFrame()\n",
    "for i in range(1, 14):\n",
    "    url = f\"https://www.ruparupa.com/acestore/c/otomotif/aksesoris-motor/kacamata-dan-helm/helmet.html\"\n",
    "\n",
    "    response = requests.get(url)"
   ]
  },
  {
   "cell_type": "code",
   "execution_count": 88,
   "metadata": {},
   "outputs": [
    {
     "name": "stdout",
     "output_type": "stream",
     "text": [
      "11\n"
     ]
    }
   ],
   "source": [
    "html = BeautifulSoup(response.content, 'html.parser')\n",
    "\n",
    "df_product = pd.DataFrame()\n",
    "product_list = []\n",
    "\n",
    "products = html.find_all(\"div\", class_=\"row product-card\")\n",
    "\n",
    "print(len(products))"
   ]
  },
  {
   "cell_type": "markdown",
   "metadata": {},
   "source": [
    "# Pemilihan situs produk, Ekstrasi data ulasan, dan Penanganan pagination"
   ]
  },
  {
   "cell_type": "code",
   "execution_count": 89,
   "metadata": {},
   "outputs": [
    {
     "data": {
      "text/html": [
       "<div>\n",
       "<style scoped>\n",
       "    .dataframe tbody tr th:only-of-type {\n",
       "        vertical-align: middle;\n",
       "    }\n",
       "\n",
       "    .dataframe tbody tr th {\n",
       "        vertical-align: top;\n",
       "    }\n",
       "\n",
       "    .dataframe thead th {\n",
       "        text-align: right;\n",
       "    }\n",
       "</style>\n",
       "<table border=\"1\" class=\"dataframe\">\n",
       "  <thead>\n",
       "    <tr style=\"text-align: right;\">\n",
       "      <th></th>\n",
       "      <th>Product Name</th>\n",
       "      <th>Price</th>\n",
       "      <th>Review</th>\n",
       "      <th>Link</th>\n",
       "    </tr>\n",
       "  </thead>\n",
       "  <tbody>\n",
       "    <tr>\n",
       "      <th>0</th>\n",
       "      <td>Hbc Phantom Helm Half Face Glossy - Hitam</td>\n",
       "      <td>[Rp,  , 142.950]</td>\n",
       "      <td>4.9 | 15 (ulasan)</td>\n",
       "      <td>https://www.ruparupa.com/acestore/p/helm-half-...</td>\n",
       "    </tr>\n",
       "    <tr>\n",
       "      <th>1</th>\n",
       "      <td>Hbc Classico Helm Half Face Dengan Visor - Krem</td>\n",
       "      <td>[Rp,  , 259.900]</td>\n",
       "      <td>5 | 8 (ulasan)</td>\n",
       "      <td>https://www.ruparupa.com/acestore/p/helm-half-...</td>\n",
       "    </tr>\n",
       "    <tr>\n",
       "      <th>2</th>\n",
       "      <td>Hbc Classico Helm Half Face Dengan Visor -  Hi...</td>\n",
       "      <td>[Rp,  , 259.900]</td>\n",
       "      <td>5 | 2 (ulasan)</td>\n",
       "      <td>https://www.ruparupa.com/acestore/p/helm-half-...</td>\n",
       "    </tr>\n",
       "    <tr>\n",
       "      <th>3</th>\n",
       "      <td>Hebe Bantal Penyangga Penyimpanan Helm</td>\n",
       "      <td>[Rp,  , 53.580]</td>\n",
       "      <td>5 | 2 (ulasan)</td>\n",
       "      <td>https://www.ruparupa.com/acestore/p/helm-half-...</td>\n",
       "    </tr>\n",
       "    <tr>\n",
       "      <th>4</th>\n",
       "      <td>Hbc Helm Full Face Viper Glossy - Hitam</td>\n",
       "      <td>[Rp,  , 345.900]</td>\n",
       "      <td>5 | 1 (ulasan)</td>\n",
       "      <td>https://www.ruparupa.com/acestore/p/helm-half-...</td>\n",
       "    </tr>\n",
       "    <tr>\n",
       "      <th>5</th>\n",
       "      <td>Hbc Helm Half Face X80 - Abu-abu Doff</td>\n",
       "      <td>[Rp,  , 245.900]</td>\n",
       "      <td>Belum ada ulasan untuk produk ini.</td>\n",
       "      <td>https://www.ruparupa.com/acestore/p/helm-half-...</td>\n",
       "    </tr>\n",
       "    <tr>\n",
       "      <th>6</th>\n",
       "      <td>Hbc Classic Pet Chip Helm Half Face - Abu-abu</td>\n",
       "      <td>[Rp,  , 245.900]</td>\n",
       "      <td>Belum ada ulasan untuk produk ini.</td>\n",
       "      <td>https://www.ruparupa.com/acestore/p/helm-half-...</td>\n",
       "    </tr>\n",
       "    <tr>\n",
       "      <th>7</th>\n",
       "      <td>Hbc Helm Half Face Motor X80 - Biru Vesp</td>\n",
       "      <td>[Rp,  , 245.900]</td>\n",
       "      <td>Belum ada ulasan untuk produk ini.</td>\n",
       "      <td>https://www.ruparupa.com/acestore/p/helm-half-...</td>\n",
       "    </tr>\n",
       "    <tr>\n",
       "      <th>8</th>\n",
       "      <td>Hbc Titan Helm Motor Half Face Glossy - Hitam</td>\n",
       "      <td>[Rp,  , 264.900]</td>\n",
       "      <td>Belum ada ulasan untuk produk ini.</td>\n",
       "      <td>https://www.ruparupa.com/acestore/p/helm-half-...</td>\n",
       "    </tr>\n",
       "    <tr>\n",
       "      <th>9</th>\n",
       "      <td>Hbc Nozz Helm Half Face Motor Doff - Hitam</td>\n",
       "      <td>[Rp,  , 268.900]</td>\n",
       "      <td>5 | 2 (ulasan)</td>\n",
       "      <td>https://www.ruparupa.com/acestore/p/helm-half-...</td>\n",
       "    </tr>\n",
       "    <tr>\n",
       "      <th>10</th>\n",
       "      <td>Hbc Titan Helm Half Face Motor Gloss - Putih</td>\n",
       "      <td>[Rp,  , 128.950]</td>\n",
       "      <td>Belum ada ulasan untuk produk ini.</td>\n",
       "      <td>https://www.ruparupa.com/acestore/p/helm-half-...</td>\n",
       "    </tr>\n",
       "  </tbody>\n",
       "</table>\n",
       "</div>"
      ],
      "text/plain": [
       "                                         Product Name             Price  \\\n",
       "0           Hbc Phantom Helm Half Face Glossy - Hitam  [Rp,  , 142.950]   \n",
       "1     Hbc Classico Helm Half Face Dengan Visor - Krem  [Rp,  , 259.900]   \n",
       "2   Hbc Classico Helm Half Face Dengan Visor -  Hi...  [Rp,  , 259.900]   \n",
       "3              Hebe Bantal Penyangga Penyimpanan Helm   [Rp,  , 53.580]   \n",
       "4             Hbc Helm Full Face Viper Glossy - Hitam  [Rp,  , 345.900]   \n",
       "5               Hbc Helm Half Face X80 - Abu-abu Doff  [Rp,  , 245.900]   \n",
       "6       Hbc Classic Pet Chip Helm Half Face - Abu-abu  [Rp,  , 245.900]   \n",
       "7            Hbc Helm Half Face Motor X80 - Biru Vesp  [Rp,  , 245.900]   \n",
       "8       Hbc Titan Helm Motor Half Face Glossy - Hitam  [Rp,  , 264.900]   \n",
       "9          Hbc Nozz Helm Half Face Motor Doff - Hitam  [Rp,  , 268.900]   \n",
       "10       Hbc Titan Helm Half Face Motor Gloss - Putih  [Rp,  , 128.950]   \n",
       "\n",
       "                                Review  \\\n",
       "0                    4.9 | 15 (ulasan)   \n",
       "1                       5 | 8 (ulasan)   \n",
       "2                       5 | 2 (ulasan)   \n",
       "3                       5 | 2 (ulasan)   \n",
       "4                       5 | 1 (ulasan)   \n",
       "5   Belum ada ulasan untuk produk ini.   \n",
       "6   Belum ada ulasan untuk produk ini.   \n",
       "7   Belum ada ulasan untuk produk ini.   \n",
       "8   Belum ada ulasan untuk produk ini.   \n",
       "9                       5 | 2 (ulasan)   \n",
       "10  Belum ada ulasan untuk produk ini.   \n",
       "\n",
       "                                                 Link  \n",
       "0   https://www.ruparupa.com/acestore/p/helm-half-...  \n",
       "1   https://www.ruparupa.com/acestore/p/helm-half-...  \n",
       "2   https://www.ruparupa.com/acestore/p/helm-half-...  \n",
       "3   https://www.ruparupa.com/acestore/p/helm-half-...  \n",
       "4   https://www.ruparupa.com/acestore/p/helm-half-...  \n",
       "5   https://www.ruparupa.com/acestore/p/helm-half-...  \n",
       "6   https://www.ruparupa.com/acestore/p/helm-half-...  \n",
       "7   https://www.ruparupa.com/acestore/p/helm-half-...  \n",
       "8   https://www.ruparupa.com/acestore/p/helm-half-...  \n",
       "9   https://www.ruparupa.com/acestore/p/helm-half-...  \n",
       "10  https://www.ruparupa.com/acestore/p/helm-half-...  "
      ]
     },
     "metadata": {},
     "output_type": "display_data"
    }
   ],
   "source": [
    "for product in products:\n",
    "    product_name = product.find(\"span\", class_=\"product__name\").get_text().strip()\n",
    "    \n",
    "    # Mengambil informasi harga\n",
    "    product_price_tag = product.find(\"div\", class_=\"price__real\")\n",
    "    \n",
    "    product_review_tag = product.find(\"div\", class_=\"col-xs-12 items-center product__review\")\n",
    "    if product_review_tag:\n",
    "        product_review = product_review_tag.get_text().strip()\n",
    "    else:\n",
    "        product_review = \"Belum ada ulasan untuk produk ini.\"\n",
    "    \n",
    "    # Mengambil link lengkap produk\n",
    "    link_product = product.find(\"a\")['href']\n",
    "    full_link = f\"https://www.ruparupa.com/acestore/p/helm-half-face-phantom-blk-glos-20210916014555.html?itm_source=megamenu-undefined-ace&itm_campaign=undefined&itm_term=10459799&itm_device=desktop{link_product.lstrip('/')}\"\n",
    "\n",
    "    \n",
    "    # Tambahkan informasi produk ke dalam list\n",
    "    product_list.append([product_name, product_price_tag, product_review, full_link])\n",
    "\n",
    "# Buat DataFrame dari product_list\n",
    "    df_products = pd.DataFrame(product_list, columns=['Product Name', 'Price', 'Review', 'Link'])\n",
    "\n",
    "# Gabungkan dengan df_products_all jika sudah ada\n",
    "df_products_all = pd.concat([df_products_all, df_products], axis=0)\n",
    "\n",
    "# Tampilkan 10 data teratas\n",
    "display(df_products_all.head(11))\n"
   ]
  },
  {
   "cell_type": "markdown",
   "metadata": {},
   "source": [
    "# Pembersihan dan Penyimpanan Data"
   ]
  },
  {
   "cell_type": "code",
   "execution_count": 90,
   "metadata": {},
   "outputs": [
    {
     "name": "stdout",
     "output_type": "stream",
     "text": [
      "Data ulasan produk telah disimpan ke dalam file CSV: product_reviews.csv\n"
     ]
    }
   ],
   "source": [
    "product_list = []\n",
    "for product in products:\n",
    "    # Mengambil informasi ulasan produk\n",
    "    product_review_tag = product.find(\"div\", class_=\"col-xs-12 items-center product__review\")\n",
    "    if product_review_tag:\n",
    "        product_review = product_review_tag.get_text().strip()\n",
    "    else:\n",
    "        product_review = \"Belum ada ulasan untuk produk ini.\"\n",
    "    \n",
    "    product_list.append([product_review])\n",
    "\n",
    "# Membuat DataFrame dari product_list\n",
    "df_products = pd.DataFrame(product_list, columns=['Review'])\n",
    "\n",
    "# Menyimpan DataFrame ke dalam file CSV\n",
    "csv_filename = 'product_reviews.csv'\n",
    "df_products.to_csv(csv_filename, index=False)\n",
    "\n",
    "print(f\"Data ulasan produk telah disimpan ke dalam file CSV: {csv_filename}\")"
   ]
  }
 ],
 "metadata": {
  "kernelspec": {
   "display_name": "Python 3",
   "language": "python",
   "name": "python3"
  },
  "language_info": {
   "codemirror_mode": {
    "name": "ipython",
    "version": 3
   },
   "file_extension": ".py",
   "mimetype": "text/x-python",
   "name": "python",
   "nbconvert_exporter": "python",
   "pygments_lexer": "ipython3",
   "version": "3.12.1"
  }
 },
 "nbformat": 4,
 "nbformat_minor": 2
}
